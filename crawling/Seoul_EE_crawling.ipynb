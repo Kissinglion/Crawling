{
 "cells": [
  {
   "cell_type": "code",
   "execution_count": 49,
   "metadata": {},
   "outputs": [],
   "source": [
    "import numpy as np\n",
    "import pandas as pd\n",
    "import requests\n",
    "import os\n",
    "import urllib.request\n",
    "from bs4 import BeautifulSoup\n",
    "import json\n",
    "import openpyxl\n",
    "import xlsxwriter"
   ]
  },
  {
   "cell_type": "code",
   "execution_count": 52,
   "metadata": {
    "scrolled": true
   },
   "outputs": [],
   "source": [
    "name_list = []\n",
    "date_list = []\n",
    "url_list = []\n",
    "\n",
    "for num in range(1,4):\n",
    "    url = \"http://ee.snu.ac.kr/community/notice/jobs?page=\" + str(num)\n",
    "    html = urllib.request.urlopen(url).read()\n",
    "    text = BeautifulSoup(html,\"html.parser\")\n",
    "    table = text.find(\"div\", class_ = \"bbs-blogstyle\")\n",
    "    li = table.find_all(\"li\")\n",
    "    \n",
    "    for (i,j) in enumerate(li):\n",
    "        name = li[i].find(\"a\").find('strong').text\n",
    "        text = li[i].find(\"p\").find(\"span\").text\n",
    "        date = text[6:16]\n",
    "        url = \"http://ee.snu.ac.kr\" + li[0].find(\"a\")['href']\n",
    "        name_list.append(name)\n",
    "        date_list.append(date)\n",
    "        url_list.append(url)\n",
    "\n",
    "data = {\"날짜\" : date_list, \"제목\" : name_list,  \"url\" : url_list}\n",
    "df1 = pd.DataFrame(data)\n",
    "df1[' '] = \" \""
   ]
  },
  {
   "cell_type": "code",
   "execution_count": 53,
   "metadata": {
    "scrolled": true
   },
   "outputs": [],
   "source": [
    "name_list = []\n",
    "date_list = []\n",
    "url_list = []\n",
    "\n",
    "for num in range(1,4):\n",
    "    url = \"http://ee.snu.ac.kr/community/notice/campuslife?page=\" + str(num)\n",
    "    html = urllib.request.urlopen(url).read()\n",
    "    text = BeautifulSoup(html,\"html.parser\")\n",
    "    table = text.find(\"div\", class_ = \"bbs-blogstyle\")\n",
    "    li = table.find_all(\"li\")\n",
    "    \n",
    "    for (i,j) in enumerate(li):\n",
    "        name = li[i].find(\"a\").find('strong').text\n",
    "        text = li[i].find(\"p\").find(\"span\").text\n",
    "        date = text[6:16]\n",
    "        url = \"http://ee.snu.ac.kr\" + li[0].find(\"a\")['href']\n",
    "        name_list.append(name)\n",
    "        date_list.append(date)\n",
    "        url_list.append(url)\n",
    "\n",
    "data = {\"날짜\" : date_list, \"제목\" : name_list,  \"url\" : url_list}\n",
    "df2 = pd.DataFrame(data)\n",
    "df2[' '] = \" \""
   ]
  },
  {
   "cell_type": "code",
   "execution_count": 54,
   "metadata": {},
   "outputs": [],
   "source": [
    "df = pd.concat([df1,df2],axis=1)\n",
    "df[\" \"]= \" \"\n",
    "df.to_excel(\"SNU_EE.xlsx\", engine = 'xlsxwriter')\n",
    "#os.system(\"open -a '/Applications/Microsoft Excel.app' '/Users/hyunwon/Desktop/koreapas.xlsx'\")"
   ]
  },
  {
   "cell_type": "code",
   "execution_count": null,
   "metadata": {},
   "outputs": [],
   "source": []
  }
 ],
 "metadata": {
  "kernelspec": {
   "display_name": "Python 3",
   "language": "python",
   "name": "python3"
  },
  "language_info": {
   "codemirror_mode": {
    "name": "ipython",
    "version": 3
   },
   "file_extension": ".py",
   "mimetype": "text/x-python",
   "name": "python",
   "nbconvert_exporter": "python",
   "pygments_lexer": "ipython3",
   "version": "3.8.3"
  }
 },
 "nbformat": 4,
 "nbformat_minor": 4
}
