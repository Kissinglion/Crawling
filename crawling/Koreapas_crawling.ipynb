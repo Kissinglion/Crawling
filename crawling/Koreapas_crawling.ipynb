{
 "cells": [
  {
   "cell_type": "code",
   "execution_count": 46,
   "metadata": {},
   "outputs": [],
   "source": [
    "import numpy as np\n",
    "import pandas as pd\n",
    "import requests\n",
    "import os\n",
    "import urllib.request\n",
    "from bs4 import BeautifulSoup\n",
    "import json\n",
    "import openpyxl\n",
    "import xlsxwriter"
   ]
  },
  {
   "cell_type": "code",
   "execution_count": 47,
   "metadata": {},
   "outputs": [],
   "source": [
    "def AutoFitColumnSize(worksheet, columns=None, margin=2):\n",
    "    for i, column_cells in enumerate(worksheet.columns):\n",
    "        is_ok = False\n",
    "        if columns == None:\n",
    "            is_ok = True\n",
    "        elif isinstance(columns, list) and i in columns:\n",
    "            is_ok = True\n",
    "\n",
    "        if is_ok:\n",
    "            length = max(len(str(cell.value)) for cell in column_cells)\n",
    "            worksheet.column_dimensions[column_cells[0].column_letter].width = length + margin\n",
    "\n",
    "    return worksheet"
   ]
  },
  {
   "cell_type": "code",
   "execution_count": 48,
   "metadata": {},
   "outputs": [],
   "source": [
    "page = 10\n",
    "title = \"koreapas.xlsx\""
   ]
  },
  {
   "cell_type": "code",
   "execution_count": 49,
   "metadata": {
    "scrolled": true
   },
   "outputs": [],
   "source": [
    "name_list = []\n",
    "date_list = []\n",
    "url_list = []\n",
    "for num in range(1,page):\n",
    "    url = \"https://www.koreapas.com/bbs/zboard.php?id=circle&page=\" + str(num) + \"&select_arrange=headnum&desc=asc&category=&sn=off&ss=on&sc=on&tagkeyword=&keyword=&sn1=&divpage=3\"\n",
    "    html = urllib.request.urlopen(url).read()\n",
    "    text = BeautifulSoup(html,\"html.parser\")\n",
    "    table = text.find(\"table\", id = \"revolution_main_table\")\n",
    "    tr = table.find_all(\"tr\")\n",
    "    for i in range(len(tr)):\n",
    "        if i%2 == 0:\n",
    "            if i != 0:\n",
    "                td = tr[i].find_all(\"td\")\n",
    "                name = td[2].text[3:]\n",
    "                date = td[4].text\n",
    "                k = td[2].find_all(\"a\")\n",
    "                name = name.replace(\"\\ue251\",\"\")\n",
    "                name = name.replace(\"\\ue038\",\"\")\n",
    "                name = name.replace(\"\\xa0\",\"\")\n",
    "                name_list.append(name)\n",
    "                date_list.append(date)\n",
    "                if len(k) == 1:\n",
    "                    new_url = \"https://www.koreapas.com/bbs/\" + td[2].find(\"a\")['href']\n",
    "                else:\n",
    "                    new_url = \"https://www.koreapas.com/bbs/\" + k[1]['href']\n",
    "                url_list.append(new_url)\n",
    "            else:\n",
    "                continue\n",
    "\n",
    "data = {\"날짜\" : date_list,\"동아리 게시판\" : name_list,  \"url\" : url_list}\n",
    "df1 = pd.DataFrame(data)"
   ]
  },
  {
   "cell_type": "code",
   "execution_count": 50,
   "metadata": {},
   "outputs": [],
   "source": [
    "name_list = []\n",
    "date_list = []\n",
    "url_list = []\n",
    "\n",
    "for number in range(1,page):\n",
    "    url = \"https://www.koreapas.com/bbs/zboard.php?id=freead&page=\" + str(number) +\"&select_arrange=headnum&desc=asc&category=&sn=off&ss=on&sc=on&tagkeyword=&keyword=&sn1=&divpage=34\"\n",
    "    html = urllib.request.urlopen(url).read()\n",
    "    text = BeautifulSoup(html,\"html.parser\")\n",
    "    table = text.find(\"table\", id = \"revolution_main_table\")\n",
    "    tr = table.find_all(\"tr\")\n",
    "    for i in range(len(tr)):\n",
    "        if i%2 == 0:\n",
    "            if i == 2:\n",
    "                continue\n",
    "            elif i != 0:\n",
    "                td = tr[i].find_all(\"td\")\n",
    "                name = td[2].text[3:]\n",
    "                date = td[4].text\n",
    "                name = name.replace(\"\\ue251\",\"\")\n",
    "                name = name.replace(\"\\ue038\",\"\")\n",
    "                name = name.replace(\"\\xa0\",\"\")\n",
    "                name_list.append(name)\n",
    "                date_list.append(date)\n",
    "                k = td[2].find_all(\"a\")\n",
    "                if len(k) == 1:\n",
    "                    new_url = \"https://www.koreapas.com/bbs/\" + td[2].find(\"a\")['href']\n",
    "                else:\n",
    "                    new_url = \"https://www.koreapas.com/bbs/\" + k[1]['href']\n",
    "                url_list.append(new_url)\n",
    "            else:\n",
    "                continue\n",
    "data = {\"날짜\" : date_list,\"자유홍보\" : name_list,  \"url\" : url_list}\n",
    "df2 = pd.DataFrame(data)\n",
    "df2[' '] = \" \""
   ]
  },
  {
   "cell_type": "code",
   "execution_count": 51,
   "metadata": {},
   "outputs": [],
   "source": [
    "df3 = pd.concat([df1,df2],axis=1)\n",
    "df3[' '] = \" \"\n",
    "df3.to_excel(title,engine = 'xlsxwriter')"
   ]
  },
  {
   "cell_type": "code",
   "execution_count": 52,
   "metadata": {},
   "outputs": [
    {
     "data": {
      "text/plain": [
       "0"
      ]
     },
     "execution_count": 52,
     "metadata": {},
     "output_type": "execute_result"
    }
   ],
   "source": [
    "wb = openpyxl.load_workbook(title)\n",
    "sheet1 = wb.active\n",
    "sheet1 = AutoFitColumnSize(sheet1,[1,2,4,5],2)\n",
    "wb.save(title)\n",
    "path = os.getcwd()\n",
    "full_path = path + \"/\" + title\n",
    "os.system(\"open -a '/Applications/Microsoft Excel.app' '%s'\" %full_path)"
   ]
  },
  {
   "cell_type": "code",
   "execution_count": null,
   "metadata": {},
   "outputs": [],
   "source": []
  }
 ],
 "metadata": {
  "kernelspec": {
   "display_name": "Python 3",
   "language": "python",
   "name": "python3"
  },
  "language_info": {
   "codemirror_mode": {
    "name": "ipython",
    "version": 3
   },
   "file_extension": ".py",
   "mimetype": "text/x-python",
   "name": "python",
   "nbconvert_exporter": "python",
   "pygments_lexer": "ipython3",
   "version": "3.8.3"
  }
 },
 "nbformat": 4,
 "nbformat_minor": 4
}
